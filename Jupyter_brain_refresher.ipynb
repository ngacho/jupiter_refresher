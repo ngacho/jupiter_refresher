{
 "cells": [
  {
   "cell_type": "code",
   "execution_count": 44,
   "metadata": {
    "scrolled": true
   },
   "outputs": [
    {
     "name": "stderr",
     "output_type": "stream",
     "text": [
      "UsageError: Line magic function `%%writefile` not found.\n"
     ]
    }
   ],
   "source": [
    "import pandas as pd\n",
    "from pathlib import Path\n",
    "\n",
    "\n",
    "\n",
    "#display charts inline\n",
    "%matplotlib inline\n",
    "\n",
    "#path to file\n",
    "file_to_open = \"D:\\\\Project\\\\python_playground\\\\csv\\\\developer_survey_2020\\\\survey_results_public.csv\"\n",
    "\n",
    "df = pd.read_csv(file_to_open)\n",
    "\n",
    "#find the number of answers and columns in our data set\n",
    "print(df.shape)\n",
    "\n",
    "#choose the hobbist from the data frame\n",
    "raw_values = df['Hobbyist'].value_counts()\n",
    "print(raw_values)\n",
    "\n",
    "#represent the value counts as a percentage\n",
    "percentages = df['Hobbyist'].value_counts(normalize=True)\n",
    "print(percentages)\n",
    "\n",
    "#plot hobbyist results into a bar\n",
    "#df['Hobbyist'].value_counts().plot(kind=\"bar\")\n",
    "\n",
    "\n",
    "#plotting how important education is to one's career.\n",
    "df['NEWEdImpt'].value_counts(normalize=True).plot(kind=\"bar\")\n",
    "\n",
    "\n",
    "#find those who said no to being a hobbyist\n",
    "said_no = df[df['Hobbyist'] == 'No']\n",
    "#find those who said yes to being a hobbyist\n",
    "said_yes = df[df['Hobbyist'] == 'Yes']\n",
    "##print the mean of those ages\n",
    "print(\"Average age of non-hobbyists is \" + str(said_no['Age'].mean()))\n",
    "print(\"Average age of hobbyists is \" + str(said_yes['Age'].mean()))"
   ]
  },
  {
   "cell_type": "code",
   "execution_count": null,
   "metadata": {},
   "outputs": [],
   "source": []
  }
 ],
 "metadata": {
  "kernelspec": {
   "display_name": "Python 3",
   "language": "python",
   "name": "python3"
  },
  "language_info": {
   "codemirror_mode": {
    "name": "ipython",
    "version": 3
   },
   "file_extension": ".py",
   "mimetype": "text/x-python",
   "name": "python",
   "nbconvert_exporter": "python",
   "pygments_lexer": "ipython3",
   "version": "3.8.5"
  }
 },
 "nbformat": 4,
 "nbformat_minor": 4
}
